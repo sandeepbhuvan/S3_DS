{
 "cells": [
  {
   "cell_type": "code",
   "execution_count": 5,
   "id": "6ed2ec2b-db00-4618-916e-3b9d3e4b47e9",
   "metadata": {},
   "outputs": [],
   "source": [
    "import numpy as np"
   ]
  },
  {
   "cell_type": "markdown",
   "id": "3b5a91fe-6066-4220-a517-745756911470",
   "metadata": {},
   "source": [
    "<h4>1. Write a numpy program to evaluate 2 list.</h4>"
   ]
  },
  {
   "cell_type": "code",
   "execution_count": 18,
   "id": "5c49818e-aeeb-4345-9371-d9f89016ade7",
   "metadata": {},
   "outputs": [
    {
     "data": {
      "text/plain": [
       "(array([ True, False, False, False,  True]),\n",
       " array([False,  True, False,  True, False]),\n",
       " array([False,  True,  True,  True, False]),\n",
       " array([ True, False,  True, False,  True]),\n",
       " array([False, False,  True, False, False]))"
      ]
     },
     "execution_count": 18,
     "metadata": {},
     "output_type": "execute_result"
    }
   ],
   "source": [
    "l1 = np.array([7,2,6,1,5])\n",
    "l2 = np.array([5,3,6,9,2])\n",
    "gr = np.greater(l1,l2)\n",
    "ls = np.less(l1,l2)\n",
    "ge = np.greater_equal(l1,l2)\n",
    "le = np.less_equal(l1,l2)\n",
    "eq = np.equal(l1,l2)\n",
    "gr,ls,le,ge,eq"
   ]
  },
  {
   "cell_type": "markdown",
   "id": "5a41e8f6-8108-4e20-86eb-e5486f5f7de0",
   "metadata": {},
   "source": [
    "<h4>2. Write a numpy program to generate even number array from 50-90</h4>"
   ]
  },
  {
   "cell_type": "code",
   "execution_count": 32,
   "id": "9dbb571e-e861-411d-9b02-5e30d78bb456",
   "metadata": {},
   "outputs": [
    {
     "data": {
      "text/plain": [
       "array([ 1,  5,  9, 13, 17, 21, 25, 29, 33, 37, 41, 45, 49])"
      ]
     },
     "execution_count": 32,
     "metadata": {},
     "output_type": "execute_result"
    }
   ],
   "source": [
    "l = np.arange(1,50,4)\n",
    "l"
   ]
  },
  {
   "cell_type": "markdown",
   "id": "3ad0a3c7-533c-4331-91eb-636b0bf2f943",
   "metadata": {},
   "source": [
    "<h4>3. Write a numpy program to generate a 4x4 identity matrix</h4>"
   ]
  },
  {
   "cell_type": "code",
   "execution_count": 39,
   "id": "f780b0c1-714d-4710-84ce-9d5dd26f026f",
   "metadata": {},
   "outputs": [
    {
     "data": {
      "text/plain": [
       "array([[1, 0, 0, 0],\n",
       "       [0, 1, 0, 0],\n",
       "       [0, 0, 1, 0],\n",
       "       [0, 0, 0, 1]])"
      ]
     },
     "execution_count": 39,
     "metadata": {},
     "output_type": "execute_result"
    }
   ],
   "source": [
    "idm = np.identity(4,dtype='int')\n",
    "idm"
   ]
  },
  {
   "cell_type": "markdown",
   "id": "510b3740-cec7-4501-bb9e-aa5c48557a4e",
   "metadata": {},
   "source": [
    "<h3>don't forget to use dtype='int'</h3>"
   ]
  },
  {
   "cell_type": "markdown",
   "id": "c866f357-0a6b-4426-b3ff-489a25cf8670",
   "metadata": {},
   "source": [
    "<h4>4. Write a program to generate a 5x5 0 matrix with elements on main diagonal: 1,2,3,4,5.</h4>"
   ]
  },
  {
   "cell_type": "code",
   "execution_count": 45,
   "id": "054df5c5-2db7-4490-9e94-3b3c81f833c5",
   "metadata": {},
   "outputs": [
    {
     "data": {
      "text/plain": [
       "array([[1, 0, 0, 0, 0],\n",
       "       [0, 2, 0, 0, 0],\n",
       "       [0, 0, 3, 0, 0],\n",
       "       [0, 0, 0, 4, 0],\n",
       "       [0, 0, 0, 0, 5]])"
      ]
     },
     "execution_count": 45,
     "metadata": {},
     "output_type": "execute_result"
    }
   ],
   "source": [
    "a=[1,2,3,4,5]\n",
    "z = np.diag(a)\n",
    "z"
   ]
  },
  {
   "cell_type": "markdown",
   "id": "37c50f01-f55f-4d9f-b149-211a51dc7391",
   "metadata": {},
   "source": [
    "<h4> 5. Write a numpy program to create a vector with the values from 0 to 20 and change the\n",
    "sign of the numbers in the range 9 to 15.</h4>"
   ]
  },
  {
   "cell_type": "code",
   "execution_count": 54,
   "id": "5e03809b-57a6-4629-b27c-88ee6d6df1b5",
   "metadata": {},
   "outputs": [
    {
     "name": "stdout",
     "output_type": "stream",
     "text": [
      "Original Vector:  [ 0  1  2  3  4  5  6  7  8  9 10 11 12 13 14 15 16 17 18 19 20]\n",
      "Modified Vector :  [  0   1   2   3   4   5   6   7   8  -9 -10 -11 -12 -13 -14 -15  16  17\n",
      "  18  19  20]\n"
     ]
    }
   ],
   "source": [
    "a = np.arange(0,21)\n",
    "print(\"Original Vector: \",a)\n",
    "for i in a:\n",
    "    if i > 8 and i < 16:\n",
    "        a[i]=i*-1\n",
    "print(\"Modified Vector : \",a)"
   ]
  },
  {
   "cell_type": "markdown",
   "id": "31012e97-6344-4b40-b6f6-ede32c09feb4",
   "metadata": {},
   "source": [
    "<h4>6. Write a numpy program to compute the sum of all elements, sum of each column, and sum\r\n",
    "of each row for a given array.<h4p>"
   ]
  },
  {
   "cell_type": "code",
   "execution_count": 73,
   "id": "f8287b1c-bdbb-4ca1-be32-0774a34f91ae",
   "metadata": {},
   "outputs": [
    {
     "name": "stdout",
     "output_type": "stream",
     "text": [
      "Sum of all element: 11\n",
      "Sum of rows: [3 8]\n",
      "Sum of col: [6 5]\n",
      "3\n"
     ]
    }
   ],
   "source": [
    "n=[[1,2],[5,3]]\n",
    "a1=np.array(n)\n",
    "print(\"Sum of all element:\",a1.sum())\n",
    "print(\"Sum of rows:\",a1.sum(1))\n",
    "print(\"Sum of col:\",a1.sum(0))\n",
    "# print(a1[0].sum()) for specific row sum"
   ]
  },
  {
   "cell_type": "markdown",
   "id": "48300184-f25f-4490-8ec9-2a22561f5edf",
   "metadata": {},
   "source": [
    "<h4>7. Write a numpy program to save a given array to a text file and load it.</h4>"
   ]
  },
  {
   "cell_type": "code",
   "execution_count": 62,
   "id": "4adfb2f7-6dd8-4c5c-95d8-5c3739eb9119",
   "metadata": {},
   "outputs": [
    {
     "name": "stdout",
     "output_type": "stream",
     "text": [
      "['[0 1 2 3 4 5 6 7 8 9]']\n"
     ]
    }
   ],
   "source": [
    "n=np.arange(0,10)\n",
    "with open(\"file.txt\",\"w\") as f:\n",
    "    f.write(str(n))\n",
    "with open(\"file.txt\",\"r\") as f:\n",
    "    print(f.readlines())"
   ]
  },
  {
   "cell_type": "markdown",
   "id": "e4bb7c9b-5663-46eb-90bb-8b1b7ae922bf",
   "metadata": {},
   "source": [
    "<h4>8. Write a numpy program to check whether 2 arrays are equal (element-wise comparison).</h4>"
   ]
  },
  {
   "cell_type": "code",
   "execution_count": 9,
   "id": "86ac76ea-6aa4-4382-ab68-18598f067394",
   "metadata": {},
   "outputs": [
    {
     "data": {
      "text/plain": [
       "array([False, False, False, False])"
      ]
     },
     "execution_count": 9,
     "metadata": {},
     "output_type": "execute_result"
    }
   ],
   "source": [
    "a1=np.array([1,2,3,5])\n",
    "a2=np.array([6,4,26,8])\n",
    "np.equal(a1,a2)"
   ]
  },
  {
   "cell_type": "markdown",
   "id": "58e211d3-7422-423e-ab20-1c4fca476b57",
   "metadata": {},
   "source": [
    "<h4>9. Write a numpy program to create a 4x4 array with random values. Create a new array \n",
    "from the set array by swapping 1st and last row</h4>"
   ]
  },
  {
   "cell_type": "code",
   "execution_count": 47,
   "id": "b899325c-5bcd-45af-858a-860ffb58e905",
   "metadata": {},
   "outputs": [
    {
     "data": {
      "text/plain": [
       "array([[5, 5, 1, 2],\n",
       "       [4, 5, 4, 3],\n",
       "       [9, 6, 9, 8],\n",
       "       [9, 2, 3, 5]])"
      ]
     },
     "execution_count": 47,
     "metadata": {},
     "output_type": "execute_result"
    }
   ],
   "source": [
    "import random\n",
    "l1 = []\n",
    "for i in range(4):\n",
    "    l2 = []\n",
    "    for j in range(4):\n",
    "        l2.append(random.randint(1,9))\n",
    "    l1.append(l2)\n",
    "m = np.array(l1)\n",
    "# print('Original Matrix: \\n',m)\n",
    "m"
   ]
  },
  {
   "cell_type": "markdown",
   "id": "380dacaf-cbd0-470e-8a21-8f91b83e9949",
   "metadata": {},
   "source": [
    "<h4>Swapping 2 rows</h4>"
   ]
  },
  {
   "cell_type": "code",
   "execution_count": 49,
   "id": "13ba71b3-23be-4929-b0a2-2bb5d2655f65",
   "metadata": {},
   "outputs": [
    {
     "data": {
      "text/plain": [
       "array([[9, 2, 3, 5],\n",
       "       [4, 5, 4, 3],\n",
       "       [9, 6, 9, 8],\n",
       "       [5, 5, 1, 2]])"
      ]
     },
     "execution_count": 49,
     "metadata": {},
     "output_type": "execute_result"
    }
   ],
   "source": [
    "m[[0,-1]] = m[[-1,0]]\n",
    "m"
   ]
  },
  {
   "cell_type": "markdown",
   "id": "9f1d62c6-4f78-4465-a945-92920e704973",
   "metadata": {},
   "source": [
    "<h4>Swapping 2 columns</h4>"
   ]
  },
  {
   "cell_type": "code",
   "execution_count": 51,
   "id": "5d8adf72-a678-4095-9b8e-7ad4611695b3",
   "metadata": {},
   "outputs": [
    {
     "data": {
      "text/plain": [
       "array([[9, 3, 2, 5],\n",
       "       [4, 4, 5, 3],\n",
       "       [9, 9, 6, 8],\n",
       "       [5, 1, 5, 2]])"
      ]
     },
     "execution_count": 51,
     "metadata": {},
     "output_type": "execute_result"
    }
   ],
   "source": [
    "m[:,[1,2]] = m[:,[2,1]]\n",
    "m"
   ]
  },
  {
   "cell_type": "markdown",
   "id": "7acdfa03-e17c-4ad0-9f77-f0e8c21947d5",
   "metadata": {},
   "source": [
    "<h4>10. Write a numpy program to multiply 2 given array of same size element by element.</h4>"
   ]
  },
  {
   "cell_type": "code",
   "execution_count": 66,
   "id": "a98b7c8e-3d86-44cb-9b84-182b5068bdf9",
   "metadata": {},
   "outputs": [
    {
     "data": {
      "text/plain": [
       "array([ 5,  4,  3, 20, 35])"
      ]
     },
     "execution_count": 66,
     "metadata": {},
     "output_type": "execute_result"
    }
   ],
   "source": [
    "n1 = np.array([1,2,3,4,5])\n",
    "n2 = np.array([5,2,1,5,7])\n",
    "n1*n2"
   ]
  }
 ],
 "metadata": {
  "kernelspec": {
   "display_name": "Python 3 (ipykernel)",
   "language": "python",
   "name": "python3"
  },
  "language_info": {
   "codemirror_mode": {
    "name": "ipython",
    "version": 3
   },
   "file_extension": ".py",
   "mimetype": "text/x-python",
   "name": "python",
   "nbconvert_exporter": "python",
   "pygments_lexer": "ipython3",
   "version": "3.12.4"
  }
 },
 "nbformat": 4,
 "nbformat_minor": 5
}
