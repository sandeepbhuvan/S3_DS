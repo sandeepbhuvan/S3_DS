{
 "cells": [
  {
   "cell_type": "markdown",
   "id": "d5e39e57-5e1f-451e-865d-207ee892dd8a",
   "metadata": {},
   "source": [
    "<i><h1><center>Exercise 4: Introduction to Pandas</center></h1></i>\n",
    "\n",
    "<p><b>Aim:</b> This exercise covers basic operations in Pandas, such as converting lists to Series, generating date ranges, and creating DataFrames from dictionaries and 2D lists.</p>"
   ]
  },
  {
   "cell_type": "markdown",
   "id": "af07940c-2770-4093-a5dd-cd5815367b22",
   "metadata": {},
   "source": [
    "1. Write a python program to convert list to series.\n",
    "   <h2> pd.Series</h2>"
   ]
  },
  {
   "cell_type": "code",
   "execution_count": 8,
   "id": "4e95b82e-ccef-4389-948e-3924e992c29b",
   "metadata": {},
   "outputs": [
    {
     "data": {
      "text/plain": [
       "0    1\n",
       "1    2\n",
       "2    3\n",
       "3    4\n",
       "4    5\n",
       "5    6\n",
       "6    7\n",
       "dtype: int64"
      ]
     },
     "execution_count": 8,
     "metadata": {},
     "output_type": "execute_result"
    }
   ],
   "source": [
    "import pandas as pd\n",
    "sample = [1,2,3,4,5,6,7]\n",
    "result = pd.Series(sample)\n",
    "result"
   ]
  },
  {
   "cell_type": "markdown",
   "id": "91eb0dec-2123-4db1-8c67-d160304fbc80",
   "metadata": {},
   "source": [
    "2. Write a python program to generate series of dates from 1 August 2024 to 15 August 2024.\n",
    "   <h2> pd.date_range</h2>"
   ]
  },
  {
   "cell_type": "code",
   "execution_count": 11,
   "id": "4445d1cd-0803-4023-aad9-8a3caa6172c2",
   "metadata": {},
   "outputs": [
    {
     "data": {
      "text/plain": [
       "DatetimeIndex(['2024-08-01', '2024-08-02', '2024-08-03', '2024-08-04',\n",
       "               '2024-08-05', '2024-08-06', '2024-08-07', '2024-08-08',\n",
       "               '2024-08-09', '2024-08-10', '2024-08-11', '2024-08-12',\n",
       "               '2024-08-13', '2024-08-14', '2024-08-15', '2024-08-16'],\n",
       "              dtype='datetime64[ns]', freq='D')"
      ]
     },
     "execution_count": 11,
     "metadata": {},
     "output_type": "execute_result"
    }
   ],
   "source": [
    "import pandas as pd\n",
    "result = pd.date_range('2024-08-01','2024-08-16')\n",
    "result"
   ]
  },
  {
   "cell_type": "markdown",
   "id": "ac137add-c2ae-4c0a-b00f-08c4bddfbe18",
   "metadata": {},
   "source": [
    "3. Dictionary to DataFrame and display it."
   ]
  },
  {
   "cell_type": "code",
   "execution_count": 32,
   "id": "95876d36-36fa-4323-a794-23f6c59066f9",
   "metadata": {},
   "outputs": [
    {
     "data": {
      "text/plain": [
       "({'Name': ['Dhoni', 'Virat', 'Rohit', 'Sanju'],\n",
       "  'No:': [7, 18, 45, 11],\n",
       "  'Team': ['CSK', 'RCB', 'MI', 'RR']},\n",
       "     Name  No: Team\n",
       " 0  Dhoni    7  CSK\n",
       " 1  Virat   18  RCB\n",
       " 2  Rohit   45   MI\n",
       " 3  Sanju   11   RR)"
      ]
     },
     "execution_count": 32,
     "metadata": {},
     "output_type": "execute_result"
    }
   ],
   "source": [
    "import pandas as pd\n",
    "data = {\n",
    "'Name': ['Dhoni', 'Virat', 'Rohit', 'Sanju'],\n",
    "'No:': [7, 18, 45, 11],\n",
    "'Team': ['CSK', 'RCB', 'MI', 'RR']}\n",
    "df = pd.DataFrame(data)\n",
    "data,df"
   ]
  },
  {
   "cell_type": "markdown",
   "id": "09e08f2a-1609-4be4-85c4-82afc99346db",
   "metadata": {},
   "source": [
    "4. 2D List convert to DataFrame and display it. (add column names)"
   ]
  },
  {
   "cell_type": "code",
   "execution_count": 41,
   "id": "075bbe50-ed73-4589-a7a1-d28433db6342",
   "metadata": {},
   "outputs": [
    {
     "data": {
      "text/plain": [
       "([['Mbappe', 9, 'FW'],\n",
       "  ['Vini', 7, 'LW'],\n",
       "  ['Rodrygo', 11, 'RW'],\n",
       "  ['Bellingham', 5, 'AMF']],\n",
       " ['Name', 'No:', 'Position'],\n",
       "          Name  No: Position\n",
       " 0      Mbappe    9       FW\n",
       " 1        Vini    7       LW\n",
       " 2     Rodrygo   11       RW\n",
       " 3  Bellingham    5      AMF)"
      ]
     },
     "execution_count": 41,
     "metadata": {},
     "output_type": "execute_result"
    }
   ],
   "source": [
    "import pandas as pd\n",
    "data = [\n",
    "['Mbappe', 9, 'FW'],\n",
    "['Vini', 7, 'LW'],\n",
    "['Rodrygo', 11, 'RW'],\n",
    "['Bellingham', 5, 'AMF']]\n",
    "column_names = ['Name', 'No:', 'Position']\n",
    "df = pd.DataFrame(data,columns=column_names)\n",
    "\n",
    "data,column_names,df"
   ]
  },
  {
   "cell_type": "markdown",
   "id": "c4b7ef9b-5a02-40da-a3fc-f0f51d8f38f4",
   "metadata": {},
   "source": []
  }
 ],
 "metadata": {
  "kernelspec": {
   "display_name": "Python 3 (ipykernel)",
   "language": "python",
   "name": "python3"
  },
  "language_info": {
   "codemirror_mode": {
    "name": "ipython",
    "version": 3
   },
   "file_extension": ".py",
   "mimetype": "text/x-python",
   "name": "python",
   "nbconvert_exporter": "python",
   "pygments_lexer": "ipython3",
   "version": "3.12.4"
  }
 },
 "nbformat": 4,
 "nbformat_minor": 5
}
