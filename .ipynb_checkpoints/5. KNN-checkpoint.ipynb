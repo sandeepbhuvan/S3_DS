{
 "cells": [
  {
   "cell_type": "markdown",
   "id": "6e64088b-02d7-4f4c-b3f6-b40ae340f2ac",
   "metadata": {},
   "source": [
    "<i><h1><center>Exercise 5: K-Nearest Neighbour (KNN)</center></h1></i>\n",
    "\n",
    "<p>This exercise will guide you through implementing the K-Nearest Neighbors (KNN) algorithm, a simple and effective machine learning algorithm used for both classification and regression tasks.</p>`"
   ]
  },
  {
   "cell_type": "markdown",
   "id": "3f1f4164-3c81-4da1-a4fb-ebeb8128c39b",
   "metadata": {},
   "source": [
    "<h2><i><u>Aim:</h2></u></i>\n",
    "    <p>\n",
    "Write a program to build a KNN model on the Iris dataset. </p>"
   ]
  },
  {
   "cell_type": "code",
   "execution_count": 65,
   "id": "fa35156e-9b85-4ffd-8f65-efec21215ffb",
   "metadata": {},
   "outputs": [],
   "source": [
    "import pandas as pd\n",
    "import numpy as np\n",
    "import matplotlib.pyplot as plt\n",
    "\n",
    "from sklearn import datasets,neighbors\n",
    "from sklearn.model_selection import train_test_split\n",
    "from sklearn.metrics import accuracy_score"
   ]
  },
  {
   "cell_type": "code",
   "execution_count": 75,
   "id": "ef55f83d-c5ac-4d20-a757-b727f8d26d7d",
   "metadata": {},
   "outputs": [
    {
     "data": {
      "text/plain": [
       "95.55555555555556"
      ]
     },
     "execution_count": 75,
     "metadata": {},
     "output_type": "execute_result"
    }
   ],
   "source": [
    "iris = datasets.load_iris()\n",
    "x,y = iris.data,iris.target\n",
    "x_train,x_test,y_train,y_test = train_test_split(x,y,train_size=0.7,random_state=78)\n",
    "classifier = neighbors.KNeighborsClassifier(n_neighbors=3)\n",
    "classifier.fit(x_train,y_train)\n",
    "y_pred = classifier.predict(x_test)\n",
    "accuracy = accuracy_score(y_pred,y_test)\n",
    "accuracy*100"
   ]
  },
  {
   "cell_type": "markdown",
   "id": "72554d3c-92ca-43cf-b90d-5f63027e5dde",
   "metadata": {},
   "source": [
    "<h4><i><u>Prediction on unseen data.</u></i></h4>"
   ]
  },
  {
   "cell_type": "code",
   "execution_count": 77,
   "id": "d38937d8-4d0b-400e-8891-7093b97920d2",
   "metadata": {},
   "outputs": [
    {
     "data": {
      "text/plain": [
       "array(['versicolor'], dtype='<U10')"
      ]
     },
     "execution_count": 77,
     "metadata": {},
     "output_type": "execute_result"
    }
   ],
   "source": [
    "result=classifier.predict([[3.5,5.1,4.8,2.9]])\n",
    "datasets.load_iris().target_names[result]"
   ]
  },
  {
   "cell_type": "markdown",
   "id": "5a17282b-acde-4ed4-8b92-0fc16dc9c5fe",
   "metadata": {},
   "source": [
    "<h4><i><u>Box Plot to visualize the distribution of predictions versus the true labels.</u></i></h4>"
   ]
  },
  {
   "cell_type": "code",
   "execution_count": null,
   "id": "a0224b19-5ecc-417a-8a88-cc2374243567",
   "metadata": {},
   "outputs": [],
   "source": []
  }
 ],
 "metadata": {
  "kernelspec": {
   "display_name": "Python 3 (ipykernel)",
   "language": "python",
   "name": "python3"
  },
  "language_info": {
   "codemirror_mode": {
    "name": "ipython",
    "version": 3
   },
   "file_extension": ".py",
   "mimetype": "text/x-python",
   "name": "python",
   "nbconvert_exporter": "python",
   "pygments_lexer": "ipython3",
   "version": "3.12.4"
  }
 },
 "nbformat": 4,
 "nbformat_minor": 5
}
