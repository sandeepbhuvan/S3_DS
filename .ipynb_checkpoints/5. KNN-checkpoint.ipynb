{
 "cells": [
  {
   "cell_type": "markdown",
   "id": "6e64088b-02d7-4f4c-b3f6-b40ae340f2ac",
   "metadata": {},
   "source": [
    "<i><h1><center>Exercise 5: K-Nearest Neighbour (KNN)</center></h1></i>\n",
    "\n",
    "<p><b>Aim:</b> This exercise will guide you through implementing the K-Nearest Neighbors (KNN) algorithm, a simple and effective machine learning algorithm used for both classification and regression tasks.</p>`"
   ]
  },
  {
   "cell_type": "markdown",
   "id": "3f1f4164-3c81-4da1-a4fb-ebeb8128c39b",
   "metadata": {},
   "source": [
    "<h2><i><u>Aim:</h1></u></i>\n",
    "    <p>\n",
    "Write a program to build a KNN model on the Iris dataset. </p>"
   ]
  }
 ],
 "metadata": {
  "kernelspec": {
   "display_name": "Python 3 (ipykernel)",
   "language": "python",
   "name": "python3"
  },
  "language_info": {
   "codemirror_mode": {
    "name": "ipython",
    "version": 3
   },
   "file_extension": ".py",
   "mimetype": "text/x-python",
   "name": "python",
   "nbconvert_exporter": "python",
   "pygments_lexer": "ipython3",
   "version": "3.12.4"
  }
 },
 "nbformat": 4,
 "nbformat_minor": 5
}
