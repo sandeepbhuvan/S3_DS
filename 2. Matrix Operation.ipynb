{
 "cells": [
  {
   "cell_type": "markdown",
   "id": "c6aa94db-af6f-4fa3-b634-95d66561b41a",
   "metadata": {},
   "source": [
    "<h1><u><i><center>Exercise 2: Matrix Operation</center></i></u></h1>"
   ]
  },
  {
   "cell_type": "markdown",
   "id": "4a2c62ab-ffae-4435-b9a7-7507732f32a8",
   "metadata": {},
   "source": [
    "<i><u>Aim:</u>\n",
    "<p>Write a program to input 2 matrices from the user and find the following:</p>\n",
    "    <ol>\n",
    "        <li>Dot Product</li>\n",
    "        <li>Transpose</li>\n",
    "        <li>Determinant</li>\n",
    "        <li>Inverse</li>\n",
    "        <li>Trace</li>\n",
    "        <li>Rank</li>\n",
    "        <li>Eigenvalues and Eigenvectors</li>\n",
    "    </ol>"
   ]
  },
  {
   "cell_type": "code",
   "execution_count": 12,
   "id": "7c730c1a-8481-41a5-8aba-af3bb02ee97b",
   "metadata": {},
   "outputs": [],
   "source": [
    "import numpy as np"
   ]
  },
  {
   "cell_type": "markdown",
   "id": "04d8d399-277e-4f71-a9d7-1a12038f03c1",
   "metadata": {},
   "source": [
    "<h3>Creating a matrix</h3>"
   ]
  },
  {
   "cell_type": "code",
   "execution_count": 25,
   "id": "b38f472d-60ad-43f6-9b34-e7fcfcf7f163",
   "metadata": {},
   "outputs": [
    {
     "name": "stdin",
     "output_type": "stream",
     "text": [
      "Enter no of rows and cols for matrix 1: 2 2 \n",
      "Enter no of rows and cols for matrix 2: 2 2 \n",
      "Enter elements of matrix 1: 1 2 3 4 \n",
      "Enter elements of matrix 2:  7 6 5 4\n"
     ]
    },
    {
     "name": "stdout",
     "output_type": "stream",
     "text": [
      "Matrix 1:\n",
      "[[1 2]\n",
      " [3 4]]\n",
      "\n",
      "Matrix 2:\n",
      "[[7 6]\n",
      " [5 4]]\n"
     ]
    }
   ],
   "source": [
    "r1,c1=list(map(int,input(\"Enter no of rows and cols for matrix 1:\").split()))\n",
    "r2,c2=list(map(int,input(\"Enter no of rows and cols for matrix 2:\").split()))\n",
    "m=list(map(int,input(\"Enter elements of matrix 1:\").split()))\n",
    "m1=np.array(m).reshape(r1,c1)\n",
    "m=list(map(int,input(\"Enter elements of matrix 2:\").split()))\n",
    "m2=np.array(m).reshape(r2,c2)\n",
    "print(\"Matrix 1:\")\n",
    "print(m1)\n",
    "print(\"\\nMatrix 2:\")\n",
    "print(m2)"
   ]
  },
  {
   "cell_type": "markdown",
   "id": "672b1513-9777-4478-9e6d-23920ae978da",
   "metadata": {},
   "source": [
    "<h5>1. Dot Product (Matrix Multiplication)</h5>"
   ]
  },
  {
   "cell_type": "code",
   "execution_count": 34,
   "id": "feac101e-e3d4-4f42-a68c-1ea0069c09cb",
   "metadata": {},
   "outputs": [
    {
     "data": {
      "text/plain": [
       "array([[17, 14],\n",
       "       [41, 34]])"
      ]
     },
     "execution_count": 34,
     "metadata": {},
     "output_type": "execute_result"
    }
   ],
   "source": [
    "dot = np.dot(m1,m2)\n",
    "dot"
   ]
  },
  {
   "cell_type": "markdown",
   "id": "76485387-1167-4d5f-be77-5b9efa7f9da7",
   "metadata": {},
   "source": [
    "<h5>2. Transpose</h5>"
   ]
  },
  {
   "cell_type": "code",
   "execution_count": 63,
   "id": "a7a93b97-1be7-4e38-836d-868b2828fe01",
   "metadata": {},
   "outputs": [
    {
     "data": {
      "text/plain": [
       "(array([[1, 3],\n",
       "        [2, 4]]),\n",
       " array([[7, 5],\n",
       "        [6, 4]]))"
      ]
     },
     "execution_count": 63,
     "metadata": {},
     "output_type": "execute_result"
    }
   ],
   "source": [
    "t1 = np.transpose(m1)\n",
    "t2 = np.transpose(m2)\n",
    "t1,t2"
   ]
  },
  {
   "cell_type": "markdown",
   "id": "d7859203-c7c6-4bc9-85cd-ab6ffbfc9451",
   "metadata": {},
   "source": [
    "<h5>3. Determinant</h5>"
   ]
  },
  {
   "cell_type": "code",
   "execution_count": 73,
   "id": "7eb122bd-a436-430e-96f8-751af4eba36e",
   "metadata": {},
   "outputs": [
    {
     "data": {
      "text/plain": [
       "-2.0000000000000004"
      ]
     },
     "execution_count": 73,
     "metadata": {},
     "output_type": "execute_result"
    }
   ],
   "source": [
    "d = np.linalg.det(m1)\n",
    "d"
   ]
  },
  {
   "cell_type": "markdown",
   "id": "8e8073fa-5647-4fa9-842d-58903fb34f2d",
   "metadata": {},
   "source": [
    "<h5>4. Inverse</h5>"
   ]
  },
  {
   "cell_type": "code",
   "execution_count": 75,
   "id": "6d624e4c-3318-49fc-927c-e179333cc62d",
   "metadata": {},
   "outputs": [
    {
     "data": {
      "text/plain": [
       "array([[-2. ,  1. ],\n",
       "       [ 1.5, -0.5]])"
      ]
     },
     "execution_count": 75,
     "metadata": {},
     "output_type": "execute_result"
    }
   ],
   "source": [
    "i = np.linalg.inv(m1)\n",
    "i"
   ]
  },
  {
   "cell_type": "markdown",
   "id": "20754326-9ca5-4495-9713-f5d162d4d4f8",
   "metadata": {},
   "source": [
    "<h5>5. Trace</h5>"
   ]
  },
  {
   "cell_type": "code",
   "execution_count": 80,
   "id": "1ba4b009-ec1b-45da-822c-7fb7f08147bd",
   "metadata": {},
   "outputs": [
    {
     "data": {
      "text/plain": [
       "5"
      ]
     },
     "execution_count": 80,
     "metadata": {},
     "output_type": "execute_result"
    }
   ],
   "source": [
    "t = np.trace(m1)\n",
    "t"
   ]
  },
  {
   "cell_type": "markdown",
   "id": "40d0d1e2-edd1-48a8-bae2-7755d9322e9c",
   "metadata": {},
   "source": [
    "<h5>6. Rank</h5>"
   ]
  },
  {
   "cell_type": "code",
   "execution_count": 86,
   "id": "faa87ead-68a7-4709-a136-9ff1e2b9dcbb",
   "metadata": {},
   "outputs": [
    {
     "data": {
      "text/plain": [
       "2"
      ]
     },
     "execution_count": 86,
     "metadata": {},
     "output_type": "execute_result"
    }
   ],
   "source": [
    "r = np.linalg.matrix_rank(m1)\n",
    "r"
   ]
  },
  {
   "cell_type": "markdown",
   "id": "4e9c2858-7dda-46a9-90c6-fc77d0568e31",
   "metadata": {},
   "source": [
    "<h5>7. Eigenvalues and Eigenvectors</h5>"
   ]
  },
  {
   "cell_type": "code",
   "execution_count": 104,
   "id": "024074d6-2ec3-40fa-8d8e-8687b49dda67",
   "metadata": {},
   "outputs": [
    {
     "name": "stdout",
     "output_type": "stream",
     "text": [
      "[-0.37228132  5.37228132] \n",
      "\n",
      " [[-0.82456484 -0.41597356]\n",
      " [ 0.56576746 -0.90937671]]\n"
     ]
    }
   ],
   "source": [
    "eval,eve = np.linalg.eig(m1)\n",
    "print(eval,'\\n\\n',eve)"
   ]
  },
  {
   "cell_type": "code",
   "execution_count": null,
   "id": "5ad279ce-1ac4-4c53-a7e3-af40bf0d99c0",
   "metadata": {},
   "outputs": [],
   "source": []
  }
 ],
 "metadata": {
  "kernelspec": {
   "display_name": "Python 3 (ipykernel)",
   "language": "python",
   "name": "python3"
  },
  "language_info": {
   "codemirror_mode": {
    "name": "ipython",
    "version": 3
   },
   "file_extension": ".py",
   "mimetype": "text/x-python",
   "name": "python",
   "nbconvert_exporter": "python",
   "pygments_lexer": "ipython3",
   "version": "3.12.4"
  }
 },
 "nbformat": 4,
 "nbformat_minor": 5
}
